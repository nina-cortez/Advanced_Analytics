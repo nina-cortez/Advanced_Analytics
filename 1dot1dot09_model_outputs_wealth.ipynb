{
 "cells": [
  {
   "cell_type": "markdown",
   "id": "70b82ed7",
   "metadata": {},
   "source": [
    "Your client, age 45, wants to retire when his wealth exceeds £500,000. His current salary is £35,000, the cost of living of 6%, a savings rate of 6%, an interest rate of 2.0%, and a promotion every year at a promotion raise of 6%. Will your client be able to retire at age 65? To prepare your findings for presentation, you now need to summarise your results and visualise the change in wealth over time for the client. "
   ]
  },
  {
   "cell_type": "code",
   "execution_count": 1,
   "id": "717f7cff",
   "metadata": {},
   "outputs": [],
   "source": [
    "# Define classes to contain and encapsulate data.\n",
    "from dataclasses import dataclass \n",
    "import pandas as pd\n",
    "\n",
    "# Import in-built module for generating random numbers. \n",
    "import random \n",
    "\n",
    "# Display output inline.\n",
    "%matplotlib inline\n",
    "\n",
    "# Import to replicate a nested loop over the input values.\n",
    "from sensitivity import SensitivityAnalyzer "
   ]
  },
  {
   "cell_type": "code",
   "execution_count": 2,
   "id": "af130ad3",
   "metadata": {},
   "outputs": [
    {
     "data": {
      "text/plain": [
       "ModelInputs(starting_salary=35000, promos_every_n_years=1, cost_of_living_raise=0.06, promo_raise=0.06, savings_rate=0.06, interest_rate=0.02, desired_cash=500000)"
      ]
     },
     "execution_count": 2,
     "metadata": {},
     "output_type": "execute_result"
    }
   ],
   "source": [
    "# Create a DataFrame consisting of various classes using Python's 'dataclass()'\n",
    "# module and Object Oriented Programming (OPP).\n",
    "@dataclass\n",
    "\n",
    "class ModelInputs: \n",
    "    # Define the class and specify the default inputs. \n",
    "    starting_salary: int = 35000\n",
    "    promos_every_n_years: int = 1\n",
    "    cost_of_living_raise: float = 0.06\n",
    "    promo_raise: float = 0.06\n",
    "    savings_rate: float = 0.06\n",
    "    interest_rate: float = 0.02\n",
    "    desired_cash: int = 500000\n",
    "\n",
    "# Create an instance of the new class with the default inputs.\n",
    "model_data = ModelInputs() \n",
    "\n",
    "# Print the results.\n",
    "model_data "
   ]
  },
  {
   "cell_type": "markdown",
   "id": "23a299fd",
   "metadata": {},
   "source": [
    "### a. Get the wage at a given year from the start of the model based on cost of living raises and regular promotions. (Hint: Use the equation on the previous page under 'Wages'.) "
   ]
  },
  {
   "cell_type": "code",
   "execution_count": 4,
   "id": "6f2b685a",
   "metadata": {},
   "outputs": [],
   "source": [
    "# Get the wage at a given year from the start of the model based \n",
    "# on the cost of living raises and regular promotions.\n",
    "def wages_year(data: ModelInputs, year):\n",
    "    # Every n years we have a promotion, so dividing the years and\n",
    "    # taking out the decimals gets the number of promotions.\n",
    "    num_promos = int(year / data.promos_every_n_years)  \n",
    "    \n",
    "   # This is the formula above implemented in Python.\n",
    "    salary_t = data.starting_salary * (1 + data.cost_of_living_raise)\\\n",
    "    ** year * (1 + data.promo_raise) ** num_promos\n",
    "    return salary_t"
   ]
  },
  {
   "cell_type": "code",
   "execution_count": 5,
   "id": "59f97565",
   "metadata": {},
   "outputs": [
    {
     "name": "stdout",
     "output_type": "stream",
     "text": [
      "The wage at year 1 is £39,326.\n",
      "The wage at year 2 is £44,187.\n",
      "The wage at year 3 is £49,648.\n",
      "The wage at year 4 is £55,785.\n"
     ]
    }
   ],
   "source": [
    "# Show the first four salaries in the range and \n",
    "# print the results using the f-string.\n",
    "for i in range(4):\n",
    "    year = i + 1\n",
    "    salary = wages_year(model_data, year)\n",
    "    print(f'The wage at year {year} is £{salary:,.0f}.')"
   ]
  },
  {
   "cell_type": "markdown",
   "id": "48e5ec1e",
   "metadata": {},
   "source": [
    "### b. Calculate the cash saved within a given year. (Hint: First calculate the salary at that year, then apply the savings rate.) "
   ]
  },
  {
   "cell_type": "code",
   "execution_count": 8,
   "id": "6f5f92f2",
   "metadata": {},
   "outputs": [],
   "source": [
    "# Calculate the cash saved within a given year by first \n",
    "# calculating the salary at that year then applying the savings rate.\n",
    "def cash_saved_during_year(data: ModelInputs, year):\n",
    "    salary = wages_year(data, year)\n",
    "    cash_saved = salary * data.savings_rate\n",
    "    return cash_saved"
   ]
  },
  {
   "cell_type": "markdown",
   "id": "8a491cf9",
   "metadata": {},
   "source": [
    "### c. Calculate the accumulated wealth for a given year. (Hint: Base these on the previous wealth, the investment rate, and cash saved during the year.) "
   ]
  },
  {
   "cell_type": "code",
   "execution_count": 9,
   "id": "9f11f5a3",
   "metadata": {},
   "outputs": [],
   "source": [
    "# Calculate the accumulated wealth for a given year based\n",
    "# on previous wealth, the investment rate, and cash saved during the year.\n",
    "def wealth_year(data: ModelInputs, year, prior_wealth):\n",
    "                cash_saved = cash_saved_during_year(data, year)\n",
    "                wealth = prior_wealth * (1 + data.interest_rate) + cash_saved\n",
    "                return wealth"
   ]
  },
  {
   "cell_type": "code",
   "execution_count": 10,
   "id": "c0d3aa5a",
   "metadata": {},
   "outputs": [
    {
     "name": "stdout",
     "output_type": "stream",
     "text": [
      "The accumulated wealth at year 1 is £2,360.\n",
      "The accumulated wealth at year 2 is £5,058.\n",
      "The accumulated wealth at year 3 is £8,138.\n",
      "The accumulated wealth at year 4 is £11,648.\n"
     ]
    }
   ],
   "source": [
    "# Start with no cash saved.\n",
    "prior_wealth = 0  \n",
    "for i in range(4):\n",
    "    year = i + 1\n",
    "    wealth = wealth_year(model_data, year, prior_wealth)\n",
    "    print(f'The accumulated wealth at year {year} is £{wealth:,.0f}.')\n",
    "    \n",
    "    # Set next year's prior wealth to this year's wealth:\n",
    "    prior_wealth = wealth"
   ]
  },
  {
   "cell_type": "markdown",
   "id": "125c8266",
   "metadata": {},
   "source": [
    "### d. Calculate the years to retirement. (Hint: Use the while loop to run through each year, starting with no cash saved.) "
   ]
  },
  {
   "cell_type": "code",
   "execution_count": 13,
   "id": "90008d8b",
   "metadata": {},
   "outputs": [],
   "source": [
    "def years_to_retirement(data: ModelInputs, print_output=True):\n",
    "    # Start with no cash saved.\n",
    "    prior_wealth = 0  \n",
    "    wealth = 0\n",
    "    # The ‘year’ becomes ‘1’ on the first loop.\n",
    "    year = 0  \n",
    "   \n",
    "    if print_output:\n",
    "        print('Wealths over time:')\n",
    "    while wealth < data.desired_cash:\n",
    "        year = year + 1\n",
    "        wealth = wealth_year(data, year, prior_wealth)\n",
    "        if print_output:\n",
    "            print(f'The accumulated wealth at year {year} is £{wealth:,.0f}.')\n",
    "            # Set next year's prior wealth to this year's wealth.\n",
    "        prior_wealth = wealth  \n",
    "       \n",
    "    # Now we have run the while loop, the wealth must be >= desired_cash \n",
    "    # (whatever last year was set is the years to retirement), which we can print.\n",
    "    if print_output:\n",
    "        # \\n makes a blank line in the output.\n",
    "        print(f'\\nRetirement:\\nIt will take {year} years to retire.')  \n",
    "    return year"
   ]
  },
  {
   "cell_type": "code",
   "execution_count": 15,
   "id": "91888f5c",
   "metadata": {},
   "outputs": [
    {
     "name": "stdout",
     "output_type": "stream",
     "text": [
      "Wealths over time:\n",
      "The accumulated wealth at year 1 is £2,360.\n",
      "The accumulated wealth at year 2 is £5,058.\n",
      "The accumulated wealth at year 3 is £8,138.\n",
      "The accumulated wealth at year 4 is £11,648.\n",
      "The accumulated wealth at year 5 is £15,642.\n",
      "The accumulated wealth at year 6 is £20,180.\n",
      "The accumulated wealth at year 7 is £25,332.\n",
      "The accumulated wealth at year 8 is £31,173.\n",
      "The accumulated wealth at year 9 is £37,790.\n",
      "The accumulated wealth at year 10 is £45,281.\n",
      "The accumulated wealth at year 11 is £53,754.\n",
      "The accumulated wealth at year 12 is £63,332.\n",
      "The accumulated wealth at year 13 is £74,153.\n",
      "The accumulated wealth at year 14 is £86,370.\n",
      "The accumulated wealth at year 15 is £100,159.\n",
      "The accumulated wealth at year 16 is £115,714.\n",
      "The accumulated wealth at year 17 is £133,256.\n",
      "The accumulated wealth at year 18 is £153,030.\n",
      "The accumulated wealth at year 19 is £175,314.\n",
      "The accumulated wealth at year 20 is £200,421.\n",
      "The accumulated wealth at year 21 is £228,699.\n",
      "The accumulated wealth at year 22 is £260,542.\n",
      "The accumulated wealth at year 23 is £296,393.\n",
      "The accumulated wealth at year 24 is £336,748.\n",
      "The accumulated wealth at year 25 is £382,166.\n",
      "The accumulated wealth at year 26 is £433,272.\n",
      "The accumulated wealth at year 27 is £490,773.\n",
      "The accumulated wealth at year 28 is £555,460.\n",
      "\n",
      "Retirement:\n",
      "It will take 28 years to retire.\n"
     ]
    }
   ],
   "source": [
    "years = years_to_retirement(model_data)"
   ]
  },
  {
   "cell_type": "code",
   "execution_count": 16,
   "id": "4f5e11e0",
   "metadata": {},
   "outputs": [],
   "source": [
    "# Runs the retirement model; collects salary and wealth information year by year\n",
    "# and stores it in a DataFrame for further analysis.\n",
    "def get_salaries_wealths_df(data):\n",
    "    # Start with no cash saved.\n",
    "    prior_wealth = 0   \n",
    "    wealth = 0\n",
    "    # The ‘year’ becomes ‘1’ on the first loop.\n",
    "    year = 0  \n",
    "    \n",
    "    df_data_tups = []\n",
    "    while wealth < data.desired_cash:\n",
    "        year = year + 1\n",
    "        salary = wages_year(data, year)\n",
    "        wealth = wealth_year(data, year, prior_wealth)\n",
    "\n",
    "        # Set next year's prior wealth to this year's wealth.\n",
    "        prior_wealth = wealth \n",
    "\n",
    "        # Save the results in a tuple for later building the DataFrame.\n",
    "        df_data_tups.append((year, salary, wealth))\n",
    "        \n",
    "    # Now we have run the while loop, so wealth must be >= desired_cash. \n",
    "    # Create the DataFrame.\n",
    "    df = pd.DataFrame(df_data_tups, columns=['Year', 'Salary', 'Wealth'])\n",
    "    \n",
    "    return df"
   ]
  },
  {
   "cell_type": "code",
   "execution_count": 17,
   "id": "1f0e759c",
   "metadata": {},
   "outputs": [
    {
     "data": {
      "text/html": [
       "<div>\n",
       "<style scoped>\n",
       "    .dataframe tbody tr th:only-of-type {\n",
       "        vertical-align: middle;\n",
       "    }\n",
       "\n",
       "    .dataframe tbody tr th {\n",
       "        vertical-align: top;\n",
       "    }\n",
       "\n",
       "    .dataframe thead th {\n",
       "        text-align: right;\n",
       "    }\n",
       "</style>\n",
       "<table border=\"1\" class=\"dataframe\">\n",
       "  <thead>\n",
       "    <tr style=\"text-align: right;\">\n",
       "      <th></th>\n",
       "      <th>Year</th>\n",
       "      <th>Salary</th>\n",
       "      <th>Wealth</th>\n",
       "    </tr>\n",
       "  </thead>\n",
       "  <tbody>\n",
       "    <tr>\n",
       "      <th>0</th>\n",
       "      <td>1</td>\n",
       "      <td>39326.000000</td>\n",
       "      <td>2359.560000</td>\n",
       "    </tr>\n",
       "    <tr>\n",
       "      <th>1</th>\n",
       "      <td>2</td>\n",
       "      <td>44186.693600</td>\n",
       "      <td>5057.952816</td>\n",
       "    </tr>\n",
       "    <tr>\n",
       "      <th>2</th>\n",
       "      <td>3</td>\n",
       "      <td>49648.168929</td>\n",
       "      <td>8138.002008</td>\n",
       "    </tr>\n",
       "    <tr>\n",
       "      <th>3</th>\n",
       "      <td>4</td>\n",
       "      <td>55784.682609</td>\n",
       "      <td>11647.843005</td>\n",
       "    </tr>\n",
       "    <tr>\n",
       "      <th>4</th>\n",
       "      <td>5</td>\n",
       "      <td>62679.669379</td>\n",
       "      <td>15641.580028</td>\n",
       "    </tr>\n",
       "    <tr>\n",
       "      <th>5</th>\n",
       "      <td>6</td>\n",
       "      <td>70426.876514</td>\n",
       "      <td>20180.024219</td>\n",
       "    </tr>\n",
       "    <tr>\n",
       "      <th>6</th>\n",
       "      <td>7</td>\n",
       "      <td>79131.638451</td>\n",
       "      <td>25331.523010</td>\n",
       "    </tr>\n",
       "    <tr>\n",
       "      <th>7</th>\n",
       "      <td>8</td>\n",
       "      <td>88912.308964</td>\n",
       "      <td>31172.892008</td>\n",
       "    </tr>\n",
       "    <tr>\n",
       "      <th>8</th>\n",
       "      <td>9</td>\n",
       "      <td>99901.870352</td>\n",
       "      <td>37790.462070</td>\n",
       "    </tr>\n",
       "    <tr>\n",
       "      <th>9</th>\n",
       "      <td>10</td>\n",
       "      <td>112249.741527</td>\n",
       "      <td>45281.255803</td>\n",
       "    </tr>\n",
       "  </tbody>\n",
       "</table>\n",
       "</div>"
      ],
      "text/plain": [
       "   Year         Salary        Wealth\n",
       "0     1   39326.000000   2359.560000\n",
       "1     2   44186.693600   5057.952816\n",
       "2     3   49648.168929   8138.002008\n",
       "3     4   55784.682609  11647.843005\n",
       "4     5   62679.669379  15641.580028\n",
       "5     6   70426.876514  20180.024219\n",
       "6     7   79131.638451  25331.523010\n",
       "7     8   88912.308964  31172.892008\n",
       "8     9   99901.870352  37790.462070\n",
       "9    10  112249.741527  45281.255803"
      ]
     },
     "execution_count": 17,
     "metadata": {},
     "output_type": "execute_result"
    }
   ],
   "source": [
    "# Save the function results into the DataFrame.\n",
    "results_df = get_salaries_wealths_df(model_data)\n",
    "\n",
    "# View the DataFrame.\n",
    "results_df.head(10)"
   ]
  },
  {
   "cell_type": "markdown",
   "id": "ba843b9c",
   "metadata": {},
   "source": [
    "## Create Visualisation"
   ]
  },
  {
   "cell_type": "code",
   "execution_count": 18,
   "id": "737823ec",
   "metadata": {},
   "outputs": [
    {
     "data": {
      "text/plain": [
       "<AxesSubplot:xlabel='Year'>"
      ]
     },
     "execution_count": 18,
     "metadata": {},
     "output_type": "execute_result"
    },
    {
     "data": {
      "image/png": "[encoded data removed]",
      "text/plain": [
       "<Figure size 432x288 with 1 Axes>"
      ]
     },
     "metadata": {
      "needs_background": "light"
     },
     "output_type": "display_data"
    }
   ],
   "source": [
    "# Visualise wage or salary change over time.\n",
    "results_df.plot('Year', 'Salary')"
   ]
  },
  {
   "cell_type": "code",
   "execution_count": 19,
   "id": "7d5af730",
   "metadata": {},
   "outputs": [
    {
     "data": {
      "text/plain": [
       "<AxesSubplot:xlabel='Year'>"
      ]
     },
     "execution_count": 19,
     "metadata": {},
     "output_type": "execute_result"
    },
    {
     "data": {
      "image/png": "[encoded data removed]",
      "text/plain": [
       "<Figure size 432x288 with 1 Axes>"
      ]
     },
     "metadata": {
      "needs_background": "light"
     },
     "output_type": "display_data"
    }
   ],
   "source": [
    "# Visualise wealth change over time.\n",
    "results_df.plot('Year', 'Wealth')"
   ]
  },
  {
   "cell_type": "code",
   "execution_count": null,
   "id": "9fa36581",
   "metadata": {},
   "outputs": [],
   "source": []
  }
 ],
 "metadata": {
  "kernelspec": {
   "display_name": "Python 3 (ipykernel)",
   "language": "python",
   "name": "python3"
  },
  "language_info": {
   "codemirror_mode": {
    "name": "ipython",
    "version": 3
   },
   "file_extension": ".py",
   "mimetype": "text/x-python",
   "name": "python",
   "nbconvert_exporter": "python",
   "pygments_lexer": "ipython3",
   "version": "3.9.12"
  }
 },
 "nbformat": 4,
 "nbformat_minor": 5
}
